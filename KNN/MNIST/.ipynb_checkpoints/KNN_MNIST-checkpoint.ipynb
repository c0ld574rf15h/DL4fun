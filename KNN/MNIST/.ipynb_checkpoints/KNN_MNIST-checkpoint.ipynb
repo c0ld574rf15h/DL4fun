{
 "cells": [
  {
   "cell_type": "markdown",
   "metadata": {},
   "source": [
    "## 0. Importing Libraries"
   ]
  },
  {
   "cell_type": "code",
   "execution_count": null,
   "metadata": {},
   "outputs": [],
   "source": [
    "import sys\n",
    "import itertools\n",
    "\n",
    "sys.path.append('../')"
   ]
  },
  {
   "cell_type": "code",
   "execution_count": null,
   "metadata": {},
   "outputs": [],
   "source": [
    "import numpy as np\n",
    "import matplotlib.pyplot as plt"
   ]
  },
  {
   "cell_type": "code",
   "execution_count": null,
   "metadata": {},
   "outputs": [],
   "source": [
    "from knn import KNN"
   ]
  },
  {
   "cell_type": "markdown",
   "metadata": {},
   "source": [
    "## 1. Reading the data"
   ]
  },
  {
   "cell_type": "code",
   "execution_count": null,
   "metadata": {},
   "outputs": [],
   "source": [
    "def read_file(path, num, magic):\n",
    "    \"\"\"\n",
    "    Read buffer & Convert to ndarray\n",
    "    (ref: http://yann.lecun.com/exdb/mnist/)\n",
    "    \"\"\"\n",
    "    with open(path, 'rb') as f:\n",
    "        # Check metadata\n",
    "        assert f.read(4) == magic.to_bytes(4, byteorder='big'), 'Invalid magic bytes'\n",
    "        assert f.read(4) == num.to_bytes(4, byteorder='big'), 'Data size mismatch'\n",
    "        if 'images' in path:\n",
    "            f.read(8) # field for each datum's size\n",
    "        data = f.read()\n",
    "    return np.frombuffer(data, dtype=np.uint8)"
   ]
  },
  {
   "cell_type": "code",
   "execution_count": null,
   "metadata": {},
   "outputs": [],
   "source": [
    "train_files = {\n",
    "    'images': 'data/train-images-idx3-ubyte', \n",
    "    'labels': 'data/train-labels-idx1-ubyte'\n",
    "}\n",
    "test_files = {\n",
    "    'images': 'data/t10k-images-idx3-ubyte',\n",
    "    'labels': 'data/t10k-labels-idx1-ubyte'\n",
    "}\n",
    "\n",
    "train_sz = 60000\n",
    "test_sz = 10000\n",
    "w, h = 28, 28"
   ]
  },
  {
   "cell_type": "code",
   "execution_count": null,
   "metadata": {},
   "outputs": [],
   "source": [
    "train_X = read_file(train_files['images'], num = train_sz, magic = 0x803)\n",
    "train_y = read_file(train_files['labels'], num = train_sz, magic = 0x801)\n",
    "\n",
    "test_X = read_file(test_files['images'], num = test_sz, magic = 0x803)\n",
    "test_y = read_file(test_files['labels'], num = test_sz, magic = 0x801)\n",
    "\n",
    "# Reshape array\n",
    "train_X = train_X.reshape((train_sz, -1))\n",
    "test_X = test_X.reshape((test_sz, -1))\n",
    "\n",
    "# Check shapes\n",
    "print(train_X.shape, train_y.shape)\n",
    "print(test_X.shape, test_y.shape)"
   ]
  },
  {
   "cell_type": "code",
   "execution_count": null,
   "metadata": {},
   "outputs": [],
   "source": [
    "# Downsample the dataset (Too much memory cost with original size)\n",
    "\n",
    "train_X = train_X[:5000]\n",
    "train_y = train_y[:5000]\n",
    "\n",
    "test_X = test_X[:1000]\n",
    "test_y = test_y[:1000]"
   ]
  },
  {
   "cell_type": "code",
   "execution_count": null,
   "metadata": {},
   "outputs": [],
   "source": [
    "fig, axes = plt.subplots(10, 10, figsize=(12, 12), subplot_kw={'xticks': [], 'yticks': []})\n",
    "\n",
    "for i, j in itertools.product(range(10), range(10)):\n",
    "    axes[i][j].imshow(train_X[train_y==i][j].reshape((w, h)), cmap='gray')"
   ]
  },
  {
   "cell_type": "markdown",
   "metadata": {},
   "source": [
    "## 2. Running the Model"
   ]
  },
  {
   "cell_type": "code",
   "execution_count": null,
   "metadata": {},
   "outputs": [],
   "source": [
    "clf = KNN(k=3, dist=1)\n",
    "\n",
    "clf.train(train_X, train_y)\n",
    "dists = clf.predict(train_X)"
   ]
  },
  {
   "cell_type": "code",
   "execution_count": null,
   "metadata": {},
   "outputs": [],
   "source": []
  }
 ],
 "metadata": {
  "kernelspec": {
   "display_name": "Python 3",
   "language": "python",
   "name": "python3"
  },
  "language_info": {
   "codemirror_mode": {
    "name": "ipython",
    "version": 3
   },
   "file_extension": ".py",
   "mimetype": "text/x-python",
   "name": "python",
   "nbconvert_exporter": "python",
   "pygments_lexer": "ipython3",
   "version": "3.8.2"
  }
 },
 "nbformat": 4,
 "nbformat_minor": 4
}
